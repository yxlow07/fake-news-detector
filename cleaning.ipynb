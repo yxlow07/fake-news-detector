{
 "cells": [
  {
   "cell_type": "code",
   "execution_count": null,
   "id": "3bc4be7b",
   "metadata": {},
   "outputs": [],
   "source": [
    "import pandas as pd\n",
    "\n",
    "REAL_PATH = \"datasets/true.csv\"\n",
    "FAKE_PATH = \"datasets/fake.csv\"\n",
    "TEST_PATH = \"datasets/test.csv\""
   ]
  },
  {
   "cell_type": "code",
   "execution_count": 39,
   "id": "c6da355a",
   "metadata": {},
   "outputs": [
    {
     "name": "stdout",
     "output_type": "stream",
     "text": [
      "Real dataset shape: (21417, 4)\n",
      "Fake dataset shape: (23481, 4)\n",
      "Test dataset shape: (20, 6)\n",
      "Real dataset headers: ['title', 'text', 'subject', 'date']\n",
      "Fake dataset headers: ['title', 'text', 'subject', 'date']\n",
      "Test dataset headers: ['idx', 'title', 'text', 'subject', 'date', 'class']\n"
     ]
    }
   ],
   "source": [
    "dataset_real = pd.read_csv(REAL_PATH)\n",
    "dataset_fake = pd.read_csv(FAKE_PATH)\n",
    "dataset_test = pd.read_csv(TEST_PATH)\n",
    "\n",
    "# Check shapes\n",
    "print(\"Real dataset shape:\", dataset_real.shape)\n",
    "print(\"Fake dataset shape:\", dataset_fake.shape)\n",
    "print(\"Test dataset shape:\", dataset_test.shape)\n",
    "\n",
    "# Print headers\n",
    "print(\"Real dataset headers:\", dataset_real.columns.tolist())\n",
    "print(\"Fake dataset headers:\", dataset_fake.columns.tolist())\n",
    "print(\"Test dataset headers:\", dataset_test.columns.tolist())"
   ]
  },
  {
   "cell_type": "code",
   "execution_count": 40,
   "id": "2d26ea63",
   "metadata": {},
   "outputs": [
    {
     "name": "stdout",
     "output_type": "stream",
     "text": [
      "Test dataset headers: ['title', 'text', 'subject', 'date', 'class']\n",
      "Unique values in 'class' column: [0 1]\n",
      "Count of fake (0) and real (1) in test dataset: class\n",
      "0    10\n",
      "1    10\n",
      "Name: count, dtype: int64\n"
     ]
    }
   ],
   "source": [
    "# Add on class column\n",
    "dataset_real['class'] = 1\n",
    "dataset_fake['class'] = 0\n",
    "\n",
    "for idx, cls in zip(dataset_test['idx'], dataset_test['class']):\n",
    "    if cls == 1:\n",
    "        dataset_real.drop([idx], axis=0, inplace=True, errors='ignore')\n",
    "    else:\n",
    "        dataset_fake.drop([idx], axis=0, inplace=True, errors='ignore')\n",
    "\n",
    "dataset_test.drop(['idx'], inplace=True, axis=1)\n",
    "\n",
    "print(\"Test dataset headers:\", dataset_test.columns.tolist())\n",
    "print(\"Unique values in 'class' column:\", dataset_test['class'].unique())\n",
    "print(\"Count of fake (0) and real (1) in test dataset:\", dataset_test['class'].value_counts())"
   ]
  },
  {
   "cell_type": "code",
   "execution_count": 41,
   "id": "8d0d71f2",
   "metadata": {},
   "outputs": [
    {
     "data": {
      "text/plain": [
       "((21407, 5), (23471, 5), (20, 5))"
      ]
     },
     "execution_count": 41,
     "metadata": {},
     "output_type": "execute_result"
    }
   ],
   "source": [
    "dataset_real.shape, dataset_fake.shape, dataset_test.shape"
   ]
  },
  {
   "cell_type": "code",
   "execution_count": 42,
   "id": "e998d972",
   "metadata": {},
   "outputs": [
    {
     "data": {
      "text/html": [
       "<div>\n",
       "<style scoped>\n",
       "    .dataframe tbody tr th:only-of-type {\n",
       "        vertical-align: middle;\n",
       "    }\n",
       "\n",
       "    .dataframe tbody tr th {\n",
       "        vertical-align: top;\n",
       "    }\n",
       "\n",
       "    .dataframe thead th {\n",
       "        text-align: right;\n",
       "    }\n",
       "</style>\n",
       "<table border=\"1\" class=\"dataframe\">\n",
       "  <thead>\n",
       "    <tr style=\"text-align: right;\">\n",
       "      <th></th>\n",
       "      <th>title</th>\n",
       "      <th>text</th>\n",
       "      <th>subject</th>\n",
       "      <th>date</th>\n",
       "      <th>class</th>\n",
       "    </tr>\n",
       "  </thead>\n",
       "  <tbody>\n",
       "    <tr>\n",
       "      <th>0</th>\n",
       "      <td>As U.S. budget fight looms, Republicans flip t...</td>\n",
       "      <td>WASHINGTON (Reuters) - The head of a conservat...</td>\n",
       "      <td>politicsNews</td>\n",
       "      <td>December 31, 2017</td>\n",
       "      <td>1</td>\n",
       "    </tr>\n",
       "    <tr>\n",
       "      <th>1</th>\n",
       "      <td>U.S. military to accept transgender recruits o...</td>\n",
       "      <td>WASHINGTON (Reuters) - Transgender people will...</td>\n",
       "      <td>politicsNews</td>\n",
       "      <td>December 29, 2017</td>\n",
       "      <td>1</td>\n",
       "    </tr>\n",
       "    <tr>\n",
       "      <th>2</th>\n",
       "      <td>Senior U.S. Republican senator: 'Let Mr. Muell...</td>\n",
       "      <td>WASHINGTON (Reuters) - The special counsel inv...</td>\n",
       "      <td>politicsNews</td>\n",
       "      <td>December 31, 2017</td>\n",
       "      <td>1</td>\n",
       "    </tr>\n",
       "    <tr>\n",
       "      <th>3</th>\n",
       "      <td>FBI Russia probe helped by Australian diplomat...</td>\n",
       "      <td>WASHINGTON (Reuters) - Trump campaign adviser ...</td>\n",
       "      <td>politicsNews</td>\n",
       "      <td>December 30, 2017</td>\n",
       "      <td>1</td>\n",
       "    </tr>\n",
       "    <tr>\n",
       "      <th>4</th>\n",
       "      <td>Trump wants Postal Service to charge 'much mor...</td>\n",
       "      <td>SEATTLE/WASHINGTON (Reuters) - President Donal...</td>\n",
       "      <td>politicsNews</td>\n",
       "      <td>December 29, 2017</td>\n",
       "      <td>1</td>\n",
       "    </tr>\n",
       "  </tbody>\n",
       "</table>\n",
       "</div>"
      ],
      "text/plain": [
       "                                               title  \\\n",
       "0  As U.S. budget fight looms, Republicans flip t...   \n",
       "1  U.S. military to accept transgender recruits o...   \n",
       "2  Senior U.S. Republican senator: 'Let Mr. Muell...   \n",
       "3  FBI Russia probe helped by Australian diplomat...   \n",
       "4  Trump wants Postal Service to charge 'much mor...   \n",
       "\n",
       "                                                text       subject  \\\n",
       "0  WASHINGTON (Reuters) - The head of a conservat...  politicsNews   \n",
       "1  WASHINGTON (Reuters) - Transgender people will...  politicsNews   \n",
       "2  WASHINGTON (Reuters) - The special counsel inv...  politicsNews   \n",
       "3  WASHINGTON (Reuters) - Trump campaign adviser ...  politicsNews   \n",
       "4  SEATTLE/WASHINGTON (Reuters) - President Donal...  politicsNews   \n",
       "\n",
       "                 date  class  \n",
       "0  December 31, 2017       1  \n",
       "1  December 29, 2017       1  \n",
       "2  December 31, 2017       1  \n",
       "3  December 30, 2017       1  \n",
       "4  December 29, 2017       1  "
      ]
     },
     "execution_count": 42,
     "metadata": {},
     "output_type": "execute_result"
    }
   ],
   "source": [
    "dataset_real.head()"
   ]
  },
  {
   "cell_type": "code",
   "execution_count": 43,
   "id": "9dbbae37",
   "metadata": {},
   "outputs": [
    {
     "data": {
      "text/html": [
       "<div>\n",
       "<style scoped>\n",
       "    .dataframe tbody tr th:only-of-type {\n",
       "        vertical-align: middle;\n",
       "    }\n",
       "\n",
       "    .dataframe tbody tr th {\n",
       "        vertical-align: top;\n",
       "    }\n",
       "\n",
       "    .dataframe thead th {\n",
       "        text-align: right;\n",
       "    }\n",
       "</style>\n",
       "<table border=\"1\" class=\"dataframe\">\n",
       "  <thead>\n",
       "    <tr style=\"text-align: right;\">\n",
       "      <th></th>\n",
       "      <th>title</th>\n",
       "      <th>text</th>\n",
       "      <th>subject</th>\n",
       "      <th>date</th>\n",
       "      <th>class</th>\n",
       "    </tr>\n",
       "  </thead>\n",
       "  <tbody>\n",
       "    <tr>\n",
       "      <th>0</th>\n",
       "      <td>Donald Trump Sends Out Embarrassing New Year’...</td>\n",
       "      <td>Donald Trump just couldn t wish all Americans ...</td>\n",
       "      <td>News</td>\n",
       "      <td>December 31, 2017</td>\n",
       "      <td>0</td>\n",
       "    </tr>\n",
       "    <tr>\n",
       "      <th>1</th>\n",
       "      <td>Drunk Bragging Trump Staffer Started Russian ...</td>\n",
       "      <td>House Intelligence Committee Chairman Devin Nu...</td>\n",
       "      <td>News</td>\n",
       "      <td>December 31, 2017</td>\n",
       "      <td>0</td>\n",
       "    </tr>\n",
       "    <tr>\n",
       "      <th>2</th>\n",
       "      <td>Sheriff David Clarke Becomes An Internet Joke...</td>\n",
       "      <td>On Friday, it was revealed that former Milwauk...</td>\n",
       "      <td>News</td>\n",
       "      <td>December 30, 2017</td>\n",
       "      <td>0</td>\n",
       "    </tr>\n",
       "    <tr>\n",
       "      <th>3</th>\n",
       "      <td>Trump Is So Obsessed He Even Has Obama’s Name...</td>\n",
       "      <td>On Christmas day, Donald Trump announced that ...</td>\n",
       "      <td>News</td>\n",
       "      <td>December 29, 2017</td>\n",
       "      <td>0</td>\n",
       "    </tr>\n",
       "    <tr>\n",
       "      <th>4</th>\n",
       "      <td>Pope Francis Just Called Out Donald Trump Dur...</td>\n",
       "      <td>Pope Francis used his annual Christmas Day mes...</td>\n",
       "      <td>News</td>\n",
       "      <td>December 25, 2017</td>\n",
       "      <td>0</td>\n",
       "    </tr>\n",
       "  </tbody>\n",
       "</table>\n",
       "</div>"
      ],
      "text/plain": [
       "                                               title  \\\n",
       "0   Donald Trump Sends Out Embarrassing New Year’...   \n",
       "1   Drunk Bragging Trump Staffer Started Russian ...   \n",
       "2   Sheriff David Clarke Becomes An Internet Joke...   \n",
       "3   Trump Is So Obsessed He Even Has Obama’s Name...   \n",
       "4   Pope Francis Just Called Out Donald Trump Dur...   \n",
       "\n",
       "                                                text subject  \\\n",
       "0  Donald Trump just couldn t wish all Americans ...    News   \n",
       "1  House Intelligence Committee Chairman Devin Nu...    News   \n",
       "2  On Friday, it was revealed that former Milwauk...    News   \n",
       "3  On Christmas day, Donald Trump announced that ...    News   \n",
       "4  Pope Francis used his annual Christmas Day mes...    News   \n",
       "\n",
       "                date  class  \n",
       "0  December 31, 2017      0  \n",
       "1  December 31, 2017      0  \n",
       "2  December 30, 2017      0  \n",
       "3  December 29, 2017      0  \n",
       "4  December 25, 2017      0  "
      ]
     },
     "execution_count": 43,
     "metadata": {},
     "output_type": "execute_result"
    }
   ],
   "source": [
    "dataset_fake.head()"
   ]
  },
  {
   "cell_type": "code",
   "execution_count": 44,
   "id": "1c6fedd9",
   "metadata": {},
   "outputs": [
    {
     "name": "stdout",
     "output_type": "stream",
     "text": [
      "Training data class distribution:\n",
      "class               0      1\n",
      "subject                     \n",
      "Government News  1570      0\n",
      "Middle-east       768      0\n",
      "News             9050      0\n",
      "US_News           783      0\n",
      "left-news        4459      0\n",
      "politics         6841      0\n",
      "politicsNews        0  11272\n",
      "worldnews           0  10135\n"
     ]
    }
   ],
   "source": [
    "training_data = pd.concat([dataset_real, dataset_fake], axis=0)\n",
    "\n",
    "# Inspect label distribution\n",
    "print(\"Training data class distribution:\")\n",
    "sub_class = pd.crosstab(training_data['subject'], training_data['class'])\n",
    "# print(training_data['subject'].value_counts())\n",
    "print(sub_class)"
   ]
  },
  {
   "cell_type": "code",
   "execution_count": 45,
   "id": "80759ebd",
   "metadata": {},
   "outputs": [],
   "source": [
    "# Subject is irrelevant as they are distinct\n",
    "training_data.drop(['subject', 'date'], axis=1, inplace=True)"
   ]
  },
  {
   "cell_type": "code",
   "execution_count": 52,
   "id": "9a93e243",
   "metadata": {},
   "outputs": [],
   "source": [
    "# Shuffle the training data\n",
    "data = training_data.sample(frac=1, random_state=42)\n",
    "data.reset_index(inplace=True)"
   ]
  },
  {
   "cell_type": "code",
   "execution_count": 56,
   "id": "811b0377",
   "metadata": {},
   "outputs": [
    {
     "data": {
      "text/html": [
       "<div>\n",
       "<style scoped>\n",
       "    .dataframe tbody tr th:only-of-type {\n",
       "        vertical-align: middle;\n",
       "    }\n",
       "\n",
       "    .dataframe tbody tr th {\n",
       "        vertical-align: top;\n",
       "    }\n",
       "\n",
       "    .dataframe thead th {\n",
       "        text-align: right;\n",
       "    }\n",
       "</style>\n",
       "<table border=\"1\" class=\"dataframe\">\n",
       "  <thead>\n",
       "    <tr style=\"text-align: right;\">\n",
       "      <th></th>\n",
       "      <th>title</th>\n",
       "      <th>text</th>\n",
       "      <th>class</th>\n",
       "    </tr>\n",
       "  </thead>\n",
       "  <tbody>\n",
       "    <tr>\n",
       "      <th>0</th>\n",
       "      <td>Details of first Putin-Trump meeting not yet s...</td>\n",
       "      <td>MOSCOW (Reuters) - Russia and the United State...</td>\n",
       "      <td>1</td>\n",
       "    </tr>\n",
       "    <tr>\n",
       "      <th>1</th>\n",
       "      <td>HEY CNN…REMEMBER OBAMA’S Notorious “Friday Nig...</td>\n",
       "      <td>Republican Rep. Steve King: The base is going ...</td>\n",
       "      <td>0</td>\n",
       "    </tr>\n",
       "    <tr>\n",
       "      <th>2</th>\n",
       "      <td>Liberia's ruling party backs challenge to pres...</td>\n",
       "      <td>MONROVIA (Reuters) - Liberia s ruling party, w...</td>\n",
       "      <td>1</td>\n",
       "    </tr>\n",
       "    <tr>\n",
       "      <th>3</th>\n",
       "      <td>Trade in focus at hearing for Trump's nominee ...</td>\n",
       "      <td>WASHINGTON (Reuters) - U.S. senators stressed ...</td>\n",
       "      <td>1</td>\n",
       "    </tr>\n",
       "    <tr>\n",
       "      <th>4</th>\n",
       "      <td>WHY ARE GOOGLE AND FACEBOOK ATTENDING BILDERBE...</td>\n",
       "      <td>Why are banking powerhouses, European Prime Mi...</td>\n",
       "      <td>0</td>\n",
       "    </tr>\n",
       "  </tbody>\n",
       "</table>\n",
       "</div>"
      ],
      "text/plain": [
       "                                               title  \\\n",
       "0  Details of first Putin-Trump meeting not yet s...   \n",
       "1  HEY CNN…REMEMBER OBAMA’S Notorious “Friday Nig...   \n",
       "2  Liberia's ruling party backs challenge to pres...   \n",
       "3  Trade in focus at hearing for Trump's nominee ...   \n",
       "4  WHY ARE GOOGLE AND FACEBOOK ATTENDING BILDERBE...   \n",
       "\n",
       "                                                text  class  \n",
       "0  MOSCOW (Reuters) - Russia and the United State...      1  \n",
       "1  Republican Rep. Steve King: The base is going ...      0  \n",
       "2  MONROVIA (Reuters) - Liberia s ruling party, w...      1  \n",
       "3  WASHINGTON (Reuters) - U.S. senators stressed ...      1  \n",
       "4  Why are banking powerhouses, European Prime Mi...      0  "
      ]
     },
     "execution_count": 56,
     "metadata": {},
     "output_type": "execute_result"
    }
   ],
   "source": [
    "data.drop(['index'], axis=1, inplace=True, errors='ignore')\n",
    "data.head()"
   ]
  },
  {
   "cell_type": "code",
   "execution_count": 57,
   "id": "b8014010",
   "metadata": {},
   "outputs": [],
   "source": [
    "# Save the cleaned datasets\n",
    "data.to_csv(\"datasets/cleaned_data.csv\", index=False)\n",
    "dataset_test.to_csv(\"datasets/test_cleaned.csv\", index=False)"
   ]
  }
 ],
 "metadata": {
  "kernelspec": {
   "display_name": "Python 3",
   "language": "python",
   "name": "python3"
  },
  "language_info": {
   "codemirror_mode": {
    "name": "ipython",
    "version": 3
   },
   "file_extension": ".py",
   "mimetype": "text/x-python",
   "name": "python",
   "nbconvert_exporter": "python",
   "pygments_lexer": "ipython3",
   "version": "3.12.10"
  }
 },
 "nbformat": 4,
 "nbformat_minor": 5
}
